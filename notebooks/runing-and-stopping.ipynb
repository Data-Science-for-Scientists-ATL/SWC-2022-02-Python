{
 "cells": [
  {
   "cell_type": "markdown",
   "id": "78f33ed5-72b2-44a1-895d-c61c0b38f4de",
   "metadata": {},
   "source": [
    "* Use asterisk\n",
    "* to create\n",
    "* bullet lists"
   ]
  },
  {
   "cell_type": "markdown",
   "id": "6dc3a765-fcd0-4aa5-afe3-5dcdfc60c6bf",
   "metadata": {},
   "source": [
    "1. Use numbers\n",
    "1. to create\n",
    "1. numbered lists."
   ]
  },
  {
   "cell_type": "markdown",
   "id": "e96e5399-d34c-42e3-b562-7ed3ea9406be",
   "metadata": {},
   "source": [
    "* You can use indents\n",
    "   * To create sublists\n",
    "   * of the same type\n",
    "     * another level of indentation\n",
    "     * and so on\n",
    "* Or sublists\n",
    "  1. of different\n",
    "  1. types"
   ]
  },
  {
   "cell_type": "markdown",
   "id": "32f8a2db-0946-4ce7-866e-ba2f0b09e205",
   "metadata": {},
   "source": [
    "# A Level-1 heading\n",
    "## A Level-2 Heading\n",
    "### and on and on"
   ]
  },
  {
   "cell_type": "markdown",
   "id": "c3fbe36e-c5d2-4bc0-a5d5-f7fd84d7a222",
   "metadata": {},
   "source": [
    "Line breaks\n",
    "don't matter.\n",
    "\n",
    "But blank lines\n",
    "create new paragraphs.\n",
    "\n",
    "Two spaces  \n",
    "at the end of the line forces a line break."
   ]
  },
  {
   "cell_type": "markdown",
   "id": "ca523184-8461-4960-8ea1-517a8ca95667",
   "metadata": {},
   "source": [
    "[Create links](http://software-carpentry.org) with `[...](...)`\n",
    "\n",
    "Or used [named links][data_carpentry].\n",
    "\n",
    "[data_carpentry]: http://datacarpentry.org"
   ]
  },
  {
   "cell_type": "code",
   "execution_count": 3,
   "id": "abee4138-d47f-452b-b634-0994a54b7d86",
   "metadata": {},
   "outputs": [
    {
     "name": "stdout",
     "output_type": "stream",
     "text": [
      "code\n"
     ]
    }
   ],
   "source": [
    "print(\"code\")"
   ]
  },
  {
   "cell_type": "code",
   "execution_count": null,
   "id": "0d00fd7c-5edc-48c8-893d-5ce0afa4255c",
   "metadata": {},
   "outputs": [],
   "source": []
  }
 ],
 "metadata": {
  "kernelspec": {
   "display_name": "Python 3 (ipykernel)",
   "language": "python",
   "name": "python3"
  },
  "language_info": {
   "codemirror_mode": {
    "name": "ipython",
    "version": 3
   },
   "file_extension": ".py",
   "mimetype": "text/x-python",
   "name": "python",
   "nbconvert_exporter": "python",
   "pygments_lexer": "ipython3",
   "version": "3.7.4"
  }
 },
 "nbformat": 4,
 "nbformat_minor": 5
}
