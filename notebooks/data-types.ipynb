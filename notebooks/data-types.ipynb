{
 "cells": [
  {
   "cell_type": "markdown",
   "id": "8af24bd0-0002-40f3-aa87-27a913fa6a28",
   "metadata": {},
   "source": [
    "# Every value has a \"type\"\n",
    "`int`: integer, 3, -512\n",
    "`float`: 3.14159, -2.5\n",
    "`str`: string, \"text\", 'text'"
   ]
  },
  {
   "cell_type": "code",
   "execution_count": null,
   "id": "a3e31eda-13f0-45b1-98cc-bc269d5549fa",
   "metadata": {},
   "outputs": [],
   "source": [
    "a = 52"
   ]
  },
  {
   "cell_type": "code",
   "execution_count": 1,
   "id": "d8410ab0-7db3-4fb2-aeb6-f467514e527d",
   "metadata": {},
   "outputs": [
    {
     "name": "stdout",
     "output_type": "stream",
     "text": [
      "<class 'int'>\n"
     ]
    }
   ],
   "source": [
    "print(type(52))"
   ]
  },
  {
   "cell_type": "code",
   "execution_count": 2,
   "id": "371b81cf-43f0-4c73-a7df-c3ae2a3b5749",
   "metadata": {},
   "outputs": [
    {
     "name": "stdout",
     "output_type": "stream",
     "text": [
      "<class 'str'>\n"
     ]
    }
   ],
   "source": [
    "fitness = 'average'\n",
    "print(type(fitness))"
   ]
  },
  {
   "cell_type": "markdown",
   "id": "3b7340ab-0568-4a9a-806b-1667c437865b",
   "metadata": {},
   "source": [
    "## Types determine what operation or methods can be performed on a given value"
   ]
  },
  {
   "cell_type": "code",
   "execution_count": 3,
   "id": "57e41a36-3aa8-457a-8aff-8b2b28de2221",
   "metadata": {},
   "outputs": [
    {
     "name": "stdout",
     "output_type": "stream",
     "text": [
      "2\n"
     ]
    }
   ],
   "source": [
    "print(5 - 3)"
   ]
  },
  {
   "cell_type": "code",
   "execution_count": 4,
   "id": "cc86b5de-d604-459d-b441-fe91de7d0d2f",
   "metadata": {},
   "outputs": [
    {
     "ename": "TypeError",
     "evalue": "unsupported operand type(s) for -: 'str' and 'str'",
     "output_type": "error",
     "traceback": [
      "\u001b[0;31m---------------------------------------------------------------------------\u001b[0m",
      "\u001b[0;31mTypeError\u001b[0m                                 Traceback (most recent call last)",
      "\u001b[0;32m/var/folders/th/rsbsynzn56zbz5vrtgv63yh00000gn/T/ipykernel_48084/13340790.py\u001b[0m in \u001b[0;36m<module>\u001b[0;34m\u001b[0m\n\u001b[0;32m----> 1\u001b[0;31m \u001b[0mprint\u001b[0m\u001b[0;34m(\u001b[0m\u001b[0;34m'hello'\u001b[0m \u001b[0;34m-\u001b[0m \u001b[0;34m'h'\u001b[0m\u001b[0;34m)\u001b[0m\u001b[0;34m\u001b[0m\u001b[0;34m\u001b[0m\u001b[0m\n\u001b[0m",
      "\u001b[0;31mTypeError\u001b[0m: unsupported operand type(s) for -: 'str' and 'str'"
     ]
    }
   ],
   "source": [
    "print('hello' - 'h')"
   ]
  },
  {
   "cell_type": "code",
   "execution_count": 5,
   "id": "6ed6d5cd-4993-4e5f-95a9-c15faa5fe23a",
   "metadata": {},
   "outputs": [
    {
     "name": "stdout",
     "output_type": "stream",
     "text": [
      "Ahmed Walsh\n"
     ]
    }
   ],
   "source": [
    "full_name = 'Ahmed' + ' ' + 'Walsh'\n",
    "print(full_name)"
   ]
  },
  {
   "cell_type": "code",
   "execution_count": 6,
   "id": "a71e52cd-d08c-4a0f-a6a1-000f8c78ec60",
   "metadata": {},
   "outputs": [
    {
     "name": "stdout",
     "output_type": "stream",
     "text": [
      "==========\n"
     ]
    }
   ],
   "source": [
    "separator = '=' * 10\n",
    "print(separator)"
   ]
  },
  {
   "cell_type": "markdown",
   "id": "c92dec6b-7f6f-4ac0-aae4-2846cadfdd18",
   "metadata": {},
   "source": [
    "## Strings have a length (but numbers don't)"
   ]
  },
  {
   "cell_type": "code",
   "execution_count": 7,
   "id": "2de0ac13-488d-4591-91ce-6010e6137585",
   "metadata": {},
   "outputs": [
    {
     "name": "stdout",
     "output_type": "stream",
     "text": [
      "11\n"
     ]
    }
   ],
   "source": [
    "print(len(full_name))"
   ]
  },
  {
   "cell_type": "code",
   "execution_count": 8,
   "id": "7b158780-7b5c-4864-a2df-ec9387c0848a",
   "metadata": {},
   "outputs": [
    {
     "ename": "TypeError",
     "evalue": "object of type 'int' has no len()",
     "output_type": "error",
     "traceback": [
      "\u001b[0;31m---------------------------------------------------------------------------\u001b[0m",
      "\u001b[0;31mTypeError\u001b[0m                                 Traceback (most recent call last)",
      "\u001b[0;32m/var/folders/th/rsbsynzn56zbz5vrtgv63yh00000gn/T/ipykernel_48084/2246900780.py\u001b[0m in \u001b[0;36m<module>\u001b[0;34m\u001b[0m\n\u001b[0;32m----> 1\u001b[0;31m \u001b[0mprint\u001b[0m\u001b[0;34m(\u001b[0m\u001b[0mlen\u001b[0m\u001b[0;34m(\u001b[0m\u001b[0;36m52\u001b[0m\u001b[0;34m)\u001b[0m\u001b[0;34m)\u001b[0m\u001b[0;34m\u001b[0m\u001b[0;34m\u001b[0m\u001b[0m\n\u001b[0m",
      "\u001b[0;31mTypeError\u001b[0m: object of type 'int' has no len()"
     ]
    }
   ],
   "source": [
    "print(len(52))"
   ]
  },
  {
   "cell_type": "markdown",
   "id": "aca25e2e-ecc3-4205-b100-622b48e9d326",
   "metadata": {},
   "source": [
    "## Must convert numbers to string or vice versa when operating on them "
   ]
  },
  {
   "cell_type": "code",
   "execution_count": 9,
   "id": "f9e56544-bb45-44a6-8ba2-e4a7a9b0a2e9",
   "metadata": {},
   "outputs": [
    {
     "ename": "TypeError",
     "evalue": "unsupported operand type(s) for +: 'int' and 'str'",
     "output_type": "error",
     "traceback": [
      "\u001b[0;31m---------------------------------------------------------------------------\u001b[0m",
      "\u001b[0;31mTypeError\u001b[0m                                 Traceback (most recent call last)",
      "\u001b[0;32m/var/folders/th/rsbsynzn56zbz5vrtgv63yh00000gn/T/ipykernel_48084/3905401405.py\u001b[0m in \u001b[0;36m<module>\u001b[0;34m\u001b[0m\n\u001b[0;32m----> 1\u001b[0;31m \u001b[0mprint\u001b[0m\u001b[0;34m(\u001b[0m\u001b[0;36m1\u001b[0m \u001b[0;34m+\u001b[0m \u001b[0;34m'2'\u001b[0m\u001b[0;34m)\u001b[0m\u001b[0;34m\u001b[0m\u001b[0;34m\u001b[0m\u001b[0m\n\u001b[0m",
      "\u001b[0;31mTypeError\u001b[0m: unsupported operand type(s) for +: 'int' and 'str'"
     ]
    }
   ],
   "source": [
    "print(1 + '2')"
   ]
  },
  {
   "cell_type": "code",
   "execution_count": 10,
   "id": "563def04-9a65-4097-a961-a2444f178182",
   "metadata": {},
   "outputs": [
    {
     "data": {
      "text/plain": [
       "52"
      ]
     },
     "execution_count": 10,
     "metadata": {},
     "output_type": "execute_result"
    }
   ],
   "source": [
    "int('52')"
   ]
  },
  {
   "cell_type": "code",
   "execution_count": 11,
   "id": "319e0404-1130-4407-93e2-c9c056d9d662",
   "metadata": {},
   "outputs": [
    {
     "name": "stdout",
     "output_type": "stream",
     "text": [
      "3\n"
     ]
    }
   ],
   "source": [
    "print(1 + int('2'))"
   ]
  },
  {
   "cell_type": "code",
   "execution_count": 12,
   "id": "24bbdaee-7a29-44b8-a3ad-e33ed0f99390",
   "metadata": {},
   "outputs": [
    {
     "name": "stdout",
     "output_type": "stream",
     "text": [
      "12\n"
     ]
    }
   ],
   "source": [
    "print(str(1) + '2')"
   ]
  },
  {
   "cell_type": "markdown",
   "id": "c4bf76d6-bd4b-47c0-a14f-4b1a82c3b711",
   "metadata": {},
   "source": [
    "## Can mix integers and floats freely in operations"
   ]
  },
  {
   "cell_type": "code",
   "execution_count": 13,
   "id": "b8e39af6-6749-4f90-8123-1003eeadac89",
   "metadata": {},
   "outputs": [
    {
     "name": "stdout",
     "output_type": "stream",
     "text": [
      "half is 0.5\n"
     ]
    }
   ],
   "source": [
    "print('half is', 1 / 2.0)"
   ]
  },
  {
   "cell_type": "code",
   "execution_count": 14,
   "id": "d0b1ed9e-33d0-4b83-b78d-805ee72678fd",
   "metadata": {},
   "outputs": [
    {
     "name": "stdout",
     "output_type": "stream",
     "text": [
      "three squared is 9.0\n"
     ]
    }
   ],
   "source": [
    "print('three squared is', 3.0 ** 2)"
   ]
  },
  {
   "cell_type": "markdown",
   "id": "e8d2ac34-1f1c-4a06-8b22-a7cef048b93f",
   "metadata": {},
   "source": [
    "## Variables only change value when something is assigned to them"
   ]
  },
  {
   "cell_type": "code",
   "execution_count": 15,
   "id": "7dcec9aa-8737-4470-8968-031c1f415fe7",
   "metadata": {},
   "outputs": [
    {
     "data": {
      "text/plain": [
       "2"
      ]
     },
     "execution_count": 15,
     "metadata": {},
     "output_type": "execute_result"
    }
   ],
   "source": [
    "int(2)"
   ]
  },
  {
   "cell_type": "code",
   "execution_count": null,
   "id": "9d2356c4-c9cf-442e-b665-020ef9aa67fd",
   "metadata": {},
   "outputs": [],
   "source": [
    "variable_one = 1\n",
    "variable_two = 5 * variable_one\n",
    "variable_one = 2"
   ]
  }
 ],
 "metadata": {
  "kernelspec": {
   "display_name": "Python 3 (ipykernel)",
   "language": "python",
   "name": "python3"
  },
  "language_info": {
   "codemirror_mode": {
    "name": "ipython",
    "version": 3
   },
   "file_extension": ".py",
   "mimetype": "text/x-python",
   "name": "python",
   "nbconvert_exporter": "python",
   "pygments_lexer": "ipython3",
   "version": "3.7.4"
  }
 },
 "nbformat": 4,
 "nbformat_minor": 5
}
