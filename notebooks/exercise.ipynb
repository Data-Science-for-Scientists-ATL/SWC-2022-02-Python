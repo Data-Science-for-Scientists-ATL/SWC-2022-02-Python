{
 "cells": [
  {
   "cell_type": "code",
   "execution_count": 1,
   "id": "1a42e7ed-0772-46f9-98ab-ea734ba6f61c",
   "metadata": {},
   "outputs": [],
   "source": [
    "import glob\n",
    "import pandas as pd"
   ]
  },
  {
   "cell_type": "markdown",
   "id": "6671912e-95d9-44f8-8fd6-1110fa4ee4d1",
   "metadata": {},
   "source": [
    "Modify this program so that it prints the number of records in the file that has the fewest records."
   ]
  },
  {
   "cell_type": "code",
   "execution_count": 7,
   "id": "cf24f8b2-2a80-4aa9-96b8-3c6c77b2fcbb",
   "metadata": {},
   "outputs": [
    {
     "name": "stdout",
     "output_type": "stream",
     "text": [
      "smallest file has 2 records\n"
     ]
    }
   ],
   "source": [
    "fewest = 100000\n",
    "\n",
    "for filename in glob.glob('data/*.csv'):\n",
    "    dataframe = pd.read_csv(filename)\n",
    "    if dataframe.shape[0] < fewest:\n",
    "        fewest = dataframe.shape[0]\n",
    "\n",
    "    # fewest = min(____, dataframe.shape[0])\n",
    "\n",
    "print('smallest file has', fewest, 'records')"
   ]
  },
  {
   "cell_type": "code",
   "execution_count": 10,
   "id": "1d1b3d23-305a-4319-9a39-12214e56de12",
   "metadata": {},
   "outputs": [
    {
     "name": "stdout",
     "output_type": "stream",
     "text": [
      "smallest file is:  data/gapminder_gdp_oceania.csv\n",
      "smallest file has 2 records\n"
     ]
    }
   ],
   "source": [
    "mins = []\n",
    "\n",
    "file_list = glob.glob('data/*.csv')\n",
    "\n",
    "for filename in file_list:\n",
    "    dataframe = pd.read_csv(filename)\n",
    "    mins.append(dataframe.shape[0])\n",
    "\n",
    "min_ind = mins.index(min(mins))\n",
    "\n",
    "print('smallest file is: ', file_list[min_ind])\n",
    "\n",
    "print('smallest file has', min(mins), 'records')"
   ]
  },
  {
   "cell_type": "code",
   "execution_count": 11,
   "id": "0c235978-2340-45b5-be9a-86802dc6e1d6",
   "metadata": {},
   "outputs": [
    {
     "name": "stdout",
     "output_type": "stream",
     "text": [
      "smallest file has 2 records\n"
     ]
    }
   ],
   "source": [
    "fewest = 100000\n",
    "\n",
    "for filename in glob.glob('data/*.csv'):\n",
    "    dataframe = pd.read_csv(filename)\n",
    "    fewest = min(fewest, dataframe.shape[0])\n",
    "\n",
    "print('smallest file has', fewest, 'records')"
   ]
  },
  {
   "cell_type": "code",
   "execution_count": 3,
   "id": "97615f6a-5aff-4412-b887-b1733fc448ca",
   "metadata": {},
   "outputs": [
    {
     "data": {
      "text/plain": [
       "0"
      ]
     },
     "execution_count": 3,
     "metadata": {},
     "output_type": "execute_result"
    }
   ],
   "source": [
    "min(0, 1)"
   ]
  },
  {
   "cell_type": "code",
   "execution_count": 4,
   "id": "fc88826e-08d6-41be-9d30-cbe5d1904c16",
   "metadata": {},
   "outputs": [
    {
     "data": {
      "text/plain": [
       "2"
      ]
     },
     "execution_count": 4,
     "metadata": {},
     "output_type": "execute_result"
    }
   ],
   "source": [
    "min(2, 3)"
   ]
  },
  {
   "cell_type": "code",
   "execution_count": 5,
   "id": "1020ff6f-b98c-4ee0-bb46-c973e759bebf",
   "metadata": {},
   "outputs": [
    {
     "data": {
      "text/plain": [
       "1"
      ]
     },
     "execution_count": 5,
     "metadata": {},
     "output_type": "execute_result"
    }
   ],
   "source": [
    "min(5, 1)"
   ]
  },
  {
   "cell_type": "code",
   "execution_count": null,
   "id": "330d8fbb-bcbb-440b-8cff-1474ccd82bb9",
   "metadata": {},
   "outputs": [],
   "source": [
    "# Sum the first 10 integers\n",
    "total = 0\n",
    "for number in range(10):\n",
    "    total = total + (number + 1)\n",
    "print(total)"
   ]
  }
 ],
 "metadata": {
  "kernelspec": {
   "display_name": "Python 3 (ipykernel)",
   "language": "python",
   "name": "python3"
  },
  "language_info": {
   "codemirror_mode": {
    "name": "ipython",
    "version": 3
   },
   "file_extension": ".py",
   "mimetype": "text/x-python",
   "name": "python",
   "nbconvert_exporter": "python",
   "pygments_lexer": "ipython3",
   "version": "3.7.4"
  }
 },
 "nbformat": 4,
 "nbformat_minor": 5
}
