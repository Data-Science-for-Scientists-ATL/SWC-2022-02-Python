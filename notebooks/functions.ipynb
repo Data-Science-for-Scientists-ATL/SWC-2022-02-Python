{
 "cells": [
  {
   "cell_type": "markdown",
   "id": "cefc711f-119b-4a99-8e10-aa0c5314bc87",
   "metadata": {},
   "source": [
    "# Break programs down into functions to make them easier to understand\n",
    "\n",
    "*encapsulate* complexity"
   ]
  },
  {
   "cell_type": "markdown",
   "id": "c18da54b-67a2-4d3a-abe1-30420d9f38ea",
   "metadata": {},
   "source": [
    "# Define a function using `def` with a name, parameters, and a block of code"
   ]
  },
  {
   "cell_type": "code",
   "execution_count": 2,
   "id": "1b846c98-ca3f-4e84-b8d5-1f2f016a184c",
   "metadata": {},
   "outputs": [],
   "source": [
    "def print_greeting():\n",
    "    print('Hello!')"
   ]
  },
  {
   "cell_type": "code",
   "execution_count": 3,
   "id": "d74c24f1-e506-4dc7-8f96-a914d8116b24",
   "metadata": {},
   "outputs": [
    {
     "name": "stdout",
     "output_type": "stream",
     "text": [
      "print_greeting\t \n"
     ]
    }
   ],
   "source": [
    "who"
   ]
  },
  {
   "cell_type": "code",
   "execution_count": 4,
   "id": "352cca61-a01d-48c2-b096-8a65129622af",
   "metadata": {},
   "outputs": [],
   "source": [
    "v = 5"
   ]
  },
  {
   "cell_type": "code",
   "execution_count": 5,
   "id": "72ee3f8a-25e3-4ac9-8fac-08cc14c630ab",
   "metadata": {},
   "outputs": [
    {
     "name": "stdout",
     "output_type": "stream",
     "text": [
      "print_greeting\t v\t \n"
     ]
    }
   ],
   "source": [
    "who"
   ]
  },
  {
   "cell_type": "code",
   "execution_count": 6,
   "id": "1cbf606d-c184-4470-9f1c-6604b1091792",
   "metadata": {},
   "outputs": [
    {
     "name": "stdout",
     "output_type": "stream",
     "text": [
      "Variable         Type        Data/Info\n",
      "--------------------------------------\n",
      "print_greeting   function    <function print_greeting at 0x7fc54eff9200>\n",
      "v                int         5\n"
     ]
    }
   ],
   "source": [
    "whos"
   ]
  },
  {
   "cell_type": "code",
   "execution_count": 7,
   "id": "b728ba1f-72a5-4638-88fa-31453d3d83c2",
   "metadata": {},
   "outputs": [
    {
     "name": "stdout",
     "output_type": "stream",
     "text": [
      "Hello!\n"
     ]
    }
   ],
   "source": [
    "print_greeting()"
   ]
  },
  {
   "cell_type": "markdown",
   "id": "79986ff8-499f-4f88-8bb8-08fc0cabd5fe",
   "metadata": {},
   "source": [
    "# Arguments in call are matched to parameters in definition"
   ]
  },
  {
   "cell_type": "code",
   "execution_count": 8,
   "id": "8df89d4c-6e81-494d-9eb1-bc3120be6e11",
   "metadata": {},
   "outputs": [],
   "source": [
    "def print_date(year, month, day):\n",
    "    joined = str(year) + '/' + str(month) + '/' + str(day)\n",
    "    print(joined)"
   ]
  },
  {
   "cell_type": "code",
   "execution_count": 9,
   "id": "950cffd1-c888-40cf-9d45-83d31836ba06",
   "metadata": {},
   "outputs": [
    {
     "name": "stdout",
     "output_type": "stream",
     "text": [
      "1871/3/19\n"
     ]
    }
   ],
   "source": [
    "print_date(1871, 3, 19)"
   ]
  },
  {
   "cell_type": "code",
   "execution_count": 10,
   "id": "390e7cb6-924b-48da-a129-e2ca41404828",
   "metadata": {},
   "outputs": [
    {
     "name": "stdout",
     "output_type": "stream",
     "text": [
      "1871/3/19\n"
     ]
    }
   ],
   "source": [
    "print_date(month=3, day=19, year=1871)"
   ]
  },
  {
   "cell_type": "markdown",
   "id": "096e349f-34d9-46d8-ae34-fb11faf53136",
   "metadata": {},
   "source": [
    "Functions may return a result to their caller using `return`"
   ]
  },
  {
   "cell_type": "code",
   "execution_count": 12,
   "id": "fc5c28d3-1d49-4500-b40c-540658cb8a2c",
   "metadata": {},
   "outputs": [],
   "source": [
    "def average(values):\n",
    "    if len(values) == 0:\n",
    "        return None\n",
    "    return sum(values) / len(values)"
   ]
  },
  {
   "cell_type": "code",
   "execution_count": 14,
   "id": "8cfae4c9-d613-42fa-aa81-a9564202bce9",
   "metadata": {},
   "outputs": [
    {
     "name": "stdout",
     "output_type": "stream",
     "text": [
      "average of actual values: 2.6666666666666665\n"
     ]
    }
   ],
   "source": [
    "a = average([1, 3, 4])\n",
    "print('average of actual values:', a)"
   ]
  },
  {
   "cell_type": "code",
   "execution_count": 15,
   "id": "6d1ed1c7-742f-435f-9133-726ebc76c135",
   "metadata": {},
   "outputs": [
    {
     "name": "stdout",
     "output_type": "stream",
     "text": [
      "average of empty list: None\n"
     ]
    }
   ],
   "source": [
    "print('average of empty list:', average([]))"
   ]
  },
  {
   "cell_type": "code",
   "execution_count": 16,
   "id": "8b89999f-de9b-42b9-bb16-0f36eeca2cf1",
   "metadata": {},
   "outputs": [
    {
     "name": "stdout",
     "output_type": "stream",
     "text": [
      "a\t average\t print_date\t print_greeting\t v\t \n"
     ]
    }
   ],
   "source": [
    "who"
   ]
  },
  {
   "cell_type": "code",
   "execution_count": 18,
   "id": "9d4c438c-8818-4dcc-b7b4-f8ca38c26747",
   "metadata": {},
   "outputs": [
    {
     "name": "stdout",
     "output_type": "stream",
     "text": [
      "Hello!\n"
     ]
    }
   ],
   "source": [
    "returned_by_print_date = print_greeting()"
   ]
  },
  {
   "cell_type": "code",
   "execution_count": 19,
   "id": "da6390a2-c35a-4016-98ab-b3b060f17fa3",
   "metadata": {},
   "outputs": [
    {
     "name": "stdout",
     "output_type": "stream",
     "text": [
      "None\n"
     ]
    }
   ],
   "source": [
    "print(returned_by_print_date)"
   ]
  }
 ],
 "metadata": {
  "kernelspec": {
   "display_name": "Python 3 (ipykernel)",
   "language": "python",
   "name": "python3"
  },
  "language_info": {
   "codemirror_mode": {
    "name": "ipython",
    "version": 3
   },
   "file_extension": ".py",
   "mimetype": "text/x-python",
   "name": "python",
   "nbconvert_exporter": "python",
   "pygments_lexer": "ipython3",
   "version": "3.7.4"
  }
 },
 "nbformat": 4,
 "nbformat_minor": 5
}
